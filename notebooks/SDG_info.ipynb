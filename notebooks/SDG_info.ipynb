{
 "cells": [
  {
   "cell_type": "code",
   "execution_count": null,
   "id": "631964f5-fc34-4372-86ed-18477c1614c6",
   "metadata": {},
   "outputs": [],
   "source": [
    "from connec_functions import execute_to_df, generate_sparql\n",
    "import pandas as pd"
   ]
  },
  {
   "cell_type": "markdown",
   "id": "8da4e2be",
   "metadata": {},
   "source": [
    "# Sustainable Development Goals information"
   ]
  },
  {
   "cell_type": "code",
   "execution_count": null,
   "id": "0468afc5",
   "metadata": {},
   "outputs": [],
   "source": [
    "sdg_info = pd.read_csv('/data/pubs_sdg_info.csv')\n",
    "sdg_info"
   ]
  },
  {
   "cell_type": "code",
   "execution_count": null,
   "id": "4a2d6e71",
   "metadata": {},
   "outputs": [],
   "source": [
    "# prevalence of sdgs in (vliz?) publications\n",
    "sdgs = sdg_info.groupby('sdg').nunique()\n",
    "sdgs"
   ]
  },
  {
   "cell_type": "code",
   "execution_count": null,
   "id": "d021cdc0",
   "metadata": {},
   "outputs": [],
   "source": []
  }
 ],
 "metadata": {
  "kernelspec": {
   "display_name": "Python 3 (ipykernel)",
   "language": "python",
   "name": "python3"
  },
  "language_info": {
   "codemirror_mode": {
    "name": "ipython",
    "version": 3
   },
   "file_extension": ".py",
   "mimetype": "text/x-python",
   "name": "python",
   "nbconvert_exporter": "python",
   "pygments_lexer": "ipython3",
   "version": "3.11.6"
  }
 },
 "nbformat": 4,
 "nbformat_minor": 5
}
