{
 "cells": [
  {
   "cell_type": "code",
   "execution_count": null,
   "metadata": {},
   "outputs": [],
   "source": [
    "from connec_functions import execute_to_df, generate_sparql\n",
    "import pandas as pd"
   ]
  },
  {
   "cell_type": "markdown",
   "id": "d89dec55",
   "metadata": {},
   "source": [
    "# OpenScience metrics "
   ]
  }
 ],
 "metadata": {
  "language_info": {
   "name": "python"
  }
 },
 "nbformat": 4,
 "nbformat_minor": 5
}
